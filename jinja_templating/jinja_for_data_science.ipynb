{
 "cells": [
  {
   "cell_type": "markdown",
   "metadata": {
    "slideshow": {
     "slide_type": "slide"
    }
   },
   "source": [
    "## Jinja Templating for Data Science\n",
    "\n",
    "### Sarah Braden\n",
    "\n",
    "### DesertPy\n",
    "\n",
    "### TBD"
   ]
  },
  {
   "cell_type": "markdown",
   "metadata": {
    "slideshow": {
     "slide_type": "slide"
    }
   },
   "source": [
    "## Why use templating?\n",
    "\n",
    "* need to scale up your reporting efforts\n",
    "* need automated, customizable output as html, pdf, or .docx\n",
    "* generating reports for clients using jupyter notebook alone isn't cutting it\n",
    "\n",
    "#### Inspiration\n",
    "\n",
    "This post: http://pbpython.com/pdf-reports.html"
   ]
  },
  {
   "cell_type": "markdown",
   "metadata": {
    "slideshow": {
     "slide_type": "slide"
    }
   },
   "source": [
    "## What makes Jinja great?\n",
    "\n",
    "* good documentation"
   ]
  },
  {
   "cell_type": "markdown",
   "metadata": {
    "slideshow": {
     "slide_type": "slide"
    }
   },
   "source": [
    "## Install\n",
    "\n",
    "pip install Jinja2"
   ]
  },
  {
   "cell_type": "markdown",
   "metadata": {
    "slideshow": {
     "slide_type": "slide"
    }
   },
   "source": [
    "## Basic API Overview\n",
    "\n",
    "The most basic way to create a template and render it is through Template. This however is not the recommended way to work with it if your templates are not loaded from strings but the file system or another data source:"
   ]
  },
  {
   "cell_type": "code",
   "execution_count": 1,
   "metadata": {
    "slideshow": {
     "slide_type": "-"
    }
   },
   "outputs": [
    {
     "data": {
      "text/plain": [
       "u'Hello John Doe!'"
      ]
     },
     "execution_count": 1,
     "metadata": {},
     "output_type": "execute_result"
    }
   ],
   "source": [
    "from jinja2 import Template\n",
    "\n",
    "template = Template('Hello {{ name }}!')\n",
    "template.render(name='John Doe')"
   ]
  },
  {
   "cell_type": "markdown",
   "metadata": {
    "slideshow": {
     "slide_type": "-"
    }
   },
   "source": [
    "The dict or keywords arguments passed to the template are the so-called “context” of the template. What you can see here is that Jinja2 is using unicode internally and the return value is an unicode string. So make sure that your application is indeed using unicode internally."
   ]
  },
  {
   "cell_type": "markdown",
   "metadata": {
    "slideshow": {
     "slide_type": "slide"
    }
   },
   "source": [
    "Jinja2 uses a central object called the template Environment. Instances of this class are used to store the configuration and global objects, and are used to load templates from the file system or other locations.\n",
    "\n",
    "Most applications will create one Environment object on application initialization and use that to load templates.\n",
    "\n",
    "This will create a template environment with the default settings and a loader that looks up the templates in the templates folder inside the yourapplication python package. "
   ]
  },
  {
   "cell_type": "code",
   "execution_count": null,
   "metadata": {
    "slideshow": {
     "slide_type": "-"
    }
   },
   "outputs": [],
   "source": [
    "from jinja2 import Environment, PackageLoader, select_autoescape\n",
    "env = Environment(\n",
    "    loader=PackageLoader('yourapplication', 'templates'),\n",
    "    autoescape=select_autoescape(['html', 'xml'])\n",
    ")"
   ]
  },
  {
   "cell_type": "markdown",
   "metadata": {
    "slideshow": {
     "slide_type": "slide"
    }
   },
   "source": [
    "To load a template from this environment you just have to call the get_template() method which then returns the loaded Template:\n",
    "\n",
    "template = env.get_template('mytemplate.html')\n",
    "\n",
    "To render it with some variables, just call the render() method:\n",
    "\n",
    "print template.render(the='variables', go='here')\n",
    "\n",
    "TODO: go over these methods"
   ]
  },
  {
   "cell_type": "markdown",
   "metadata": {
    "slideshow": {
     "slide_type": "slide"
    }
   },
   "source": [
    "## Unicode\n",
    "\n",
    "For Jinja2 the default encoding of templates is assumed to be utf-8.\n",
    "\n",
    "To set module encoding add the following comment to the first or second line of the Python module using the Unicode literal:\n",
    "\n",
    "# -*- coding: utf-8 -*-"
   ]
  },
  {
   "cell_type": "markdown",
   "metadata": {
    "slideshow": {
     "slide_type": "slide"
    }
   },
   "source": [
    "## Autoescaping\n",
    "\n",
    "#### Why is autoescaping important?\n",
    "*\n",
    "*\n",
    "*\n",
    "\n",
    "autoescaping is not a default in Jinja2, but they are going to change this in the future.\n",
    "\n",
    "It’s recommended to configure a sensible default for autoescaping. This makes it possible to enable and disable autoescaping on a per-template basis (HTML versus text for instance)."
   ]
  },
  {
   "cell_type": "markdown",
   "metadata": {
    "slideshow": {
     "slide_type": "notes"
    }
   },
   "source": [
    "The enabled_extensions is an iterable of all the extensions that autoescaping should be enabled for. Likewise disabled_extensions is a list of all templates it should be disabled for. If a template is loaded from a string then the default from default_for_string is used. If nothing matches then the initial value of autoescaping is set to the value of default."
   ]
  },
  {
   "cell_type": "markdown",
   "metadata": {
    "slideshow": {
     "slide_type": "slide"
    }
   },
   "source": [
    "Example configuration to turn it on at all times except if the template ends with .txt:"
   ]
  },
  {
   "cell_type": "code",
   "execution_count": 4,
   "metadata": {
    "collapsed": true,
    "slideshow": {
     "slide_type": "-"
    }
   },
   "outputs": [],
   "source": [
    "from jinja2 import Environment, select_autoescape\n",
    "env = Environment(autoescape=select_autoescape(\n",
    "    disabled_extensions=('txt',),\n",
    "    default_for_string=True,\n",
    "    default=True,\n",
    "))"
   ]
  },
  {
   "cell_type": "code",
   "execution_count": null,
   "metadata": {
    "collapsed": true
   },
   "outputs": [],
   "source": [
    "# TODO: more about autoescaping"
   ]
  },
  {
   "cell_type": "markdown",
   "metadata": {
    "slideshow": {
     "slide_type": "slide"
    }
   },
   "source": [
    "## The Context"
   ]
  },
  {
   "cell_type": "markdown",
   "metadata": {
    "slideshow": {
     "slide_type": "slide"
    }
   },
   "source": [
    "## Loaders"
   ]
  },
  {
   "cell_type": "markdown",
   "metadata": {},
   "source": [
    "## Bytecode Cache"
   ]
  },
  {
   "cell_type": "markdown",
   "metadata": {
    "slideshow": {
     "slide_type": "slide"
    }
   },
   "source": [
    "## Sandbox\n",
    "The Jinja2 sandbox can be used to evaluate untrusted code. Access to unsafe attributes and methods is prohibited.\n"
   ]
  },
  {
   "cell_type": "markdown",
   "metadata": {
    "slideshow": {
     "slide_type": "slide"
    }
   },
   "source": [
    "## Template Designer Overview\n",
    "* A Jinja template is simply a text file\n",
    "* Jinja can generate any text-based format (HTML, XML, CSV, LaTeX, etc.)\n",
    "* A template contains:\n",
    "    * variables and/or expressions, which get replaced with values when a template is rendered\n",
    "    * tags which control the logic of the template."
   ]
  },
  {
   "cell_type": "markdown",
   "metadata": {
    "slideshow": {
     "slide_type": "slide"
    }
   },
   "source": [
    "The following example shows the default configuration settings. An application developer can change the syntax configuration from {% foo %} to <% foo %>, or something similar.\n",
    "\n",
    "There are a few kinds of delimiters. The default Jinja delimiters are configured as follows:\n",
    "\n",
    "* {% ... %} for Statements\n",
    "* {{ ... }} for Expressions to print to the template output\n",
    "* {# ... #} for Comments not included in the template output\n",
    "* $#  ... ##$ for Line Statements"
   ]
  },
  {
   "cell_type": "markdown",
   "metadata": {
    "slideshow": {
     "slide_type": "slide"
    }
   },
   "source": [
    "## Expressions\n",
    "\n",
    "#### Literals\n",
    "“Hello World”:\n",
    "Everything between two double or single quotes is a string. \n",
    "\n",
    "42 / 42.23:\n",
    "Integers and floating point numbers are created by just writing the number down. If a dot is present, the number is a float, otherwise an integer.\n",
    "\n",
    "[‘list’, ‘of’, ‘objects’]:\n",
    "Everything between two brackets is a list.\n",
    "\n",
    "(‘tuple’, ‘of’, ‘values’):\n",
    "Tuples are like lists that cannot be modified (“immutable”). If a tuple only has one item, it must be followed by a comma (('1-tuple',)).\n",
    "\n",
    "{‘dict’: ‘of’, ‘key’: ‘and’, ‘value’: ‘pairs’}:\n",
    "A dict in Python is a structure that combines keys and values. Keys must be unique and always have exactly one value.\n",
    "\n",
    "true / false:\n",
    "true is always true and false is always false. The special constants true, false, and none are indeed lowercase."
   ]
  },
  {
   "cell_type": "code",
   "execution_count": null,
   "metadata": {
    "collapsed": true,
    "slideshow": {
     "slide_type": "-"
    }
   },
   "outputs": [],
   "source": [
    "For example, you can easily create a list of links using lists and tuples for (and with) a for loop:\n",
    "\n",
    "<ul>\n",
    "{% for href, caption in [('index.html', 'Index'), ('about.html', 'About'),\n",
    "                         ('downloads.html', 'Downloads')] %}\n",
    "    <li><a href=\"{{ href }}\">{{ caption }}</a></li>\n",
    "{% endfor %}\n",
    "</ul>"
   ]
  },
  {
   "cell_type": "markdown",
   "metadata": {
    "slideshow": {
     "slide_type": "slide"
    }
   },
   "source": [
    "## A commented-out for loop"
   ]
  },
  {
   "cell_type": "code",
   "execution_count": null,
   "metadata": {
    "collapsed": true,
    "slideshow": {
     "slide_type": "-"
    }
   },
   "outputs": [],
   "source": [
    "{# note: commented-out template because we no longer use this\n",
    "    {% for user in users %}\n",
    "        ...\n",
    "    {% endfor %}\n",
    "#}"
   ]
  },
  {
   "cell_type": "markdown",
   "metadata": {
    "slideshow": {
     "slide_type": "slide"
    }
   },
   "source": [
    "<!DOCTYPE html>\n",
    "<html lang=\"en\">\n",
    "<head>\n",
    "    <title>My Webpage</title>\n",
    "</head>\n",
    "<body>\n",
    "    <ul id=\"navigation\">\n",
    "    {% for item in navigation %}\n",
    "        <li><a href=\"{{ item.href }}\">{{ item.caption }}</a></li>\n",
    "    {% endfor %}\n",
    "    </ul>\n",
    "\n",
    "    <h1>My Webpage</h1>\n",
    "    {{ a_variable }}\n",
    "\n",
    "    {# a comment #}\n",
    "</body>\n",
    "</html>"
   ]
  },
  {
   "cell_type": "code",
   "execution_count": null,
   "metadata": {
    "collapsed": true
   },
   "outputs": [],
   "source": []
  }
 ],
 "metadata": {
  "celltoolbar": "Slideshow",
  "kernelspec": {
   "display_name": "Python 2",
   "language": "python",
   "name": "python2"
  },
  "language_info": {
   "codemirror_mode": {
    "name": "ipython",
    "version": 2
   },
   "file_extension": ".py",
   "mimetype": "text/x-python",
   "name": "python",
   "nbconvert_exporter": "python",
   "pygments_lexer": "ipython2",
   "version": "2.7.13"
  }
 },
 "nbformat": 4,
 "nbformat_minor": 2
}
