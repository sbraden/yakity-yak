{
 "cells": [
  {
   "cell_type": "markdown",
   "metadata": {
    "slideshow": {
     "slide_type": "slide"
    }
   },
   "source": [
    "# Logistic Regression\n",
    "\n",
    "> Sarah Braden\n",
    "\n",
    "> Galvanize Data Science Practice Teach\n",
    "\n",
    "> 25 April 2017"
   ]
  },
  {
   "cell_type": "markdown",
   "metadata": {
    "slideshow": {
     "slide_type": "slide"
    }
   },
   "source": [
    "# Let's Begin!"
   ]
  },
  {
   "cell_type": "markdown",
   "metadata": {
    "slideshow": {
     "slide_type": "fragment"
    }
   },
   "source": [
    "## Logistic Regression is a:\n",
    "\n",
    "\n",
    "<img style=\"left;\" src=\"img/foul.png\"><h2> classification algorithm </h2>\n",
    "\n",
    "<img style=\"left;\" src=\"img/goal.png\"><h2> regression algorithm </h2>"
   ]
  },
  {
   "cell_type": "markdown",
   "metadata": {
    "slideshow": {
     "slide_type": "slide"
    }
   },
   "source": [
    "## Logistic Regression is:\n",
    "\n",
    "\n",
    "<img style=\"left;\" src=\"img/foul.png\">\n",
    "<h2> an unsupervised machine learning algorithm </h2>\n",
    "\n",
    "<img style=\"left;\" src=\"img/goal.png\">\n",
    "<h2> a supervised machine learning algorithm </h2>\n",
    "\n"
   ]
  },
  {
   "cell_type": "markdown",
   "metadata": {
    "slideshow": {
     "slide_type": "slide"
    }
   },
   "source": [
    "# Objectives\n",
    "\n",
    "1. Compute predicted probabilities using scikit-learn's implementation of logistic regression\n",
    "2. Compute predicted probabilities manually using the logistic function\n",
    "3. Create a confusion matrix and use it to evaluate the classifier (hypothetical third objective)"
   ]
  },
  {
   "cell_type": "markdown",
   "metadata": {
    "slideshow": {
     "slide_type": "slide"
    }
   },
   "source": [
    "# Objective Clarification\n",
    "1. In practice, data scientists use tools for logistic regression like scikit-learn. Through learning to use scikit learn's implementation and get predicted probabilities you will learn about logistic regression basics. \n",
    "2. Then by learning how to compute the predicted probabilities on your own you will understand more about the underlying math behind logistic regression. This understanding will help you correctly apply the probabilities provided by logistic regression to real life business problems. "
   ]
  },
  {
   "cell_type": "markdown",
   "metadata": {
    "slideshow": {
     "slide_type": "slide"
    }
   },
   "source": [
    "# What problem are we trying to solve?\n",
    "\n",
    "## Two-Class Classification\n",
    "\n",
    "* Tumors: Benign / Malignant \n",
    "* Email: Not Spam / Spam\n",
    "* Credit Card Transactions: Not Fradulent / Fradulent\n",
    "* Glass Type: Window glass / regular glass\n",
    "\n",
    "### $$y \\in \\{0, 1\\}$$\n",
    "\n",
    "\n",
    "\n",
    "<center><h3>0: \"Negative Class\" (e.g., not spam)</h3></center>\n",
    "\n",
    "<center><h3>1: \"Positive Class\" (e.g., spam)</h3></center>"
   ]
  },
  {
   "cell_type": "markdown",
   "metadata": {
    "slideshow": {
     "slide_type": "slide"
    }
   },
   "source": [
    "## Why Use Logistic Regression over Linear Regression?\n",
    "\n",
    "\n",
    "* Linear Regression can output values > 1 or < 0\n",
    "* Logistic Regression output: ranges from 0 to 1\n",
    "* Logistic Regression output is the estimated probability that y = 1 on some input x\n",
    "\n",
    "To the white board!\n"
   ]
  },
  {
   "cell_type": "markdown",
   "metadata": {
    "slideshow": {
     "slide_type": "slide"
    }
   },
   "source": [
    "## Example\n",
    "Glass identification dataset:\n",
    "* types 1, 2, 3 are window glass (labeled: 0)\n",
    "* types 5, 6, 7 are household glass (labeled: 1)\n",
    "* inputs/features (x) are elemental abundances"
   ]
  },
  {
   "cell_type": "code",
   "execution_count": 140,
   "metadata": {
    "collapsed": false,
    "slideshow": {
     "slide_type": "fragment"
    }
   },
   "outputs": [],
   "source": [
    "import numpy as np\n",
    "import pandas as pd\n",
    "import seaborn as sns\n",
    "import matplotlib.pyplot as plt\n",
    "%matplotlib inline\n",
    "from sklearn.linear_model import LinearRegression\n",
    "\n",
    "url = 'http://archive.ics.uci.edu/ml/machine-learning-databases/glass/glass.data'\n",
    "col_names = ['id','ri','na','mg','al','si','k','ca','ba','fe','glass_type']\n",
    "glass = pd.read_csv(url, names=col_names, index_col='id')\n",
    "\n",
    "glass['household'] = glass.glass_type.map({1:0, 2:0, 3:0, 5:1, 6:1, 7:1})\n",
    "glass.sort_values(by='al', inplace=True)"
   ]
  },
  {
   "cell_type": "markdown",
   "metadata": {
    "slideshow": {
     "slide_type": "slide"
    }
   },
   "source": [
    "### Let's predict household glass using only Aluminum (Al)"
   ]
  },
  {
   "cell_type": "code",
   "execution_count": 28,
   "metadata": {
    "collapsed": false,
    "slideshow": {
     "slide_type": "fragment"
    }
   },
   "outputs": [
    {
     "data": {
      "image/png": "[encoded data removed]",
      "text/plain": [
       "<matplotlib.figure.Figure at 0x7f99ea926610>"
      ]
     },
     "metadata": {},
     "output_type": "display_data"
    }
   ],
   "source": [
    "plt.scatter(glass.al, glass.household)\n",
    "plt.xlabel('al')\n",
    "plt.ylabel('household');"
   ]
  },
  {
   "cell_type": "markdown",
   "metadata": {
    "slideshow": {
     "slide_type": "slide"
    }
   },
   "source": [
    "Fit a linear regression model"
   ]
  },
  {
   "cell_type": "code",
   "execution_count": 62,
   "metadata": {
    "collapsed": false,
    "slideshow": {
     "slide_type": "fragment"
    }
   },
   "outputs": [],
   "source": [
    "model = LinearRegression()\n",
    "\n",
    "feature_cols = ['al']  # Aluminum is our only feature\n",
    "X = glass[feature_cols]\n",
    "y = glass.household\n",
    "model.fit(X, y)\n",
    "glass['household_pred'] = model.predict(X)"
   ]
  },
  {
   "cell_type": "markdown",
   "metadata": {
    "slideshow": {
     "slide_type": "slide"
    }
   },
   "source": [
    "Create a scatter plot that includes the regression line"
   ]
  },
  {
   "cell_type": "code",
   "execution_count": 30,
   "metadata": {
    "collapsed": false,
    "slideshow": {
     "slide_type": "fragment"
    }
   },
   "outputs": [
    {
     "data": {
      "image/png": "[encoded data removed]",
      "text/plain": [
       "<matplotlib.figure.Figure at 0x7f99ea903110>"
      ]
     },
     "metadata": {},
     "output_type": "display_data"
    }
   ],
   "source": [
    "plt.scatter(glass.al, glass.household)\n",
    "plt.plot(glass.al, glass.household_pred, color='red')\n",
    "plt.xlabel('al')\n",
    "plt.ylabel('household');"
   ]
  },
  {
   "cell_type": "markdown",
   "metadata": {
    "slideshow": {
     "slide_type": "fragment"
    }
   },
   "source": [
    "If al=3, what class do we predict?"
   ]
  },
  {
   "cell_type": "markdown",
   "metadata": {
    "slideshow": {
     "slide_type": "fragment"
    }
   },
   "source": [
    "1"
   ]
  },
  {
   "cell_type": "markdown",
   "metadata": {
    "slideshow": {
     "slide_type": "slide"
    }
   },
   "source": [
    "Create a scatter plot that includes the regression line\n",
    "\n",
    "<img style=\"left;\" src=\"img/linear.png\">\n",
    "\n",
    "If al=1.5, what class do we predict?"
   ]
  },
  {
   "cell_type": "markdown",
   "metadata": {
    "slideshow": {
     "slide_type": "fragment"
    }
   },
   "source": [
    "0"
   ]
  },
  {
   "cell_type": "markdown",
   "metadata": {
    "slideshow": {
     "slide_type": "slide"
    }
   },
   "source": [
    "<img style=\"left;\" src=\"img/linear.png\">\n",
    "\n",
    "* We predict the 0 class for lower values of al, and the 1 class for higher values of al. \n",
    "* What's our cutoff value? \n",
    "    Around al=2, because that's where the linear regression line crosses the midpoint between predicting class 0 and class 1.\n",
    "* Therefore, we'll say that if household_pred >= 0.5, we predict a class of 1, else we predict a class of 0."
   ]
  },
  {
   "cell_type": "markdown",
   "metadata": {
    "slideshow": {
     "slide_type": "slide"
    }
   },
   "source": [
    "## Plot the class predictions"
   ]
  },
  {
   "cell_type": "code",
   "execution_count": 31,
   "metadata": {
    "collapsed": false,
    "slideshow": {
     "slide_type": "notes"
    }
   },
   "outputs": [
    {
     "data": {
      "text/plain": [
       "array(['small', 'big', 'small'], \n",
       "      dtype='|S5')"
      ]
     },
     "execution_count": 31,
     "metadata": {},
     "output_type": "execute_result"
    }
   ],
   "source": [
    "nums = np.array([5, 15, 8])\n",
    "# np.where returns the first value if the condition is True, and the second value if the condition is False\n",
    "np.where(nums > 10, 'big', 'small')"
   ]
  },
  {
   "cell_type": "code",
   "execution_count": 56,
   "metadata": {
    "collapsed": false,
    "slideshow": {
     "slide_type": "fragment"
    }
   },
   "outputs": [
    {
     "data": {
      "image/png": "[encoded data removed]",
      "text/plain": [
       "<matplotlib.figure.Figure at 0x7f99ea528090>"
      ]
     },
     "metadata": {},
     "output_type": "display_data"
    }
   ],
   "source": [
    "threshold = 0.5\n",
    "glass['household_pred_class'] = np.where(glass.household_pred >= threshold, 1, 0)\n",
    "\n",
    "plt.scatter(glass.al, glass.household)\n",
    "plt.plot(glass.al, glass.household_pred_class, color='red')\n",
    "plt.xlabel('al')\n",
    "plt.ylabel('household');"
   ]
  },
  {
   "cell_type": "markdown",
   "metadata": {
    "slideshow": {
     "slide_type": "fragment"
    }
   },
   "source": [
    "How well is this classification model based on handling the two classes?"
   ]
  },
  {
   "cell_type": "markdown",
   "metadata": {
    "slideshow": {
     "slide_type": "notes"
    }
   },
   "source": [
    "It is modeling class 0 (window glass) well, but not modeling class 1 (household glass) very well. In the case of class 0, linear regression is just getting lucky as a classifier. Many of the class 0 and class 1 examples have the same amount of aluminium. The linear regression classifier might fool you into thinking you can model class 0 well.\n",
    "\n",
    "What further information can using Logistic Regression provide us?"
   ]
  },
  {
   "cell_type": "markdown",
   "metadata": {
    "slideshow": {
     "slide_type": "slide"
    }
   },
   "source": [
    "## Using Logistic Regression"
   ]
  },
  {
   "cell_type": "code",
   "execution_count": 143,
   "metadata": {
    "collapsed": true,
    "slideshow": {
     "slide_type": "fragment"
    }
   },
   "outputs": [],
   "source": [
    "from sklearn.linear_model import LogisticRegression\n",
    "\n",
    "model = LogisticRegression(C=1e9)\n",
    "\n",
    "X = glass[['al']]\n",
    "y = glass.household\n",
    "model.fit(X, y)\n",
    "glass['household_pred_class'] = model.predict(X)"
   ]
  },
  {
   "cell_type": "markdown",
   "metadata": {
    "slideshow": {
     "slide_type": "slide"
    }
   },
   "source": [
    "## Plot the class predictions"
   ]
  },
  {
   "cell_type": "code",
   "execution_count": 144,
   "metadata": {
    "collapsed": false,
    "slideshow": {
     "slide_type": "fragment"
    }
   },
   "outputs": [
    {
     "data": {
      "image/png": "[encoded data removed]",
      "text/plain": [
       "<matplotlib.figure.Figure at 0x7f99ec6f6150>"
      ]
     },
     "metadata": {},
     "output_type": "display_data"
    }
   ],
   "source": [
    "plt.scatter(glass.al, glass.household)\n",
    "plt.plot(glass.al, glass.household_pred_class, color='red')\n",
    "plt.xlabel('al')\n",
    "plt.ylabel('household');"
   ]
  },
  {
   "cell_type": "markdown",
   "metadata": {
    "slideshow": {
     "slide_type": "fragment"
    }
   },
   "source": [
    "Wait a second!"
   ]
  },
  {
   "cell_type": "markdown",
   "metadata": {
    "slideshow": {
     "slide_type": "notes"
    }
   },
   "source": [
    "Wait a second! This looks just like the predictions we got with Linear Regression! The default decision threshold used to separate the probabilities calculated by Logistic Regression into class predictions is 0.5 in scikitlearn. This is the same as what we chose for our Linear Regression example above. But let's dig deeper into the calculations behind Logistic Regression."
   ]
  },
  {
   "cell_type": "markdown",
   "metadata": {
    "slideshow": {
     "slide_type": "slide"
    }
   },
   "source": [
    "## Get the predicted probabilites of class 1\n",
    "We can look at the predicted probabilities instead of just the class predictions. This helps us understand how confident we are in a given prediction."
   ]
  },
  {
   "cell_type": "code",
   "execution_count": 145,
   "metadata": {
    "collapsed": false,
    "slideshow": {
     "slide_type": "fragment"
    }
   },
   "outputs": [
    {
     "data": {
      "image/png": "[encoded data removed]",
      "text/plain": [
       "<matplotlib.figure.Figure at 0x7f99ec2727d0>"
      ]
     },
     "metadata": {},
     "output_type": "display_data"
    }
   ],
   "source": [
    "glass['household_pred_prob'] = model.predict_proba(X)[:, 1]\n",
    "\n",
    "plt.scatter(glass.al, glass.household)\n",
    "plt.plot(glass.al, glass.household_pred_prob, color='red')\n",
    "plt.xlabel('al')\n",
    "plt.ylabel('household');"
   ]
  },
  {
   "cell_type": "markdown",
   "metadata": {
    "slideshow": {
     "slide_type": "slide"
    }
   },
   "source": [
    "## Examine some example predictions\n",
    "For different values of x (aluminum)"
   ]
  },
  {
   "cell_type": "code",
   "execution_count": 39,
   "metadata": {
    "collapsed": false,
    "slideshow": {
     "slide_type": "fragment"
    }
   },
   "outputs": [
    {
     "name": "stdout",
     "output_type": "stream",
     "text": [
      "[[ 0.97161726  0.02838274]]\n",
      "[[ 0.34361555  0.65638445]]\n",
      "[[ 0.00794192  0.99205808]]\n"
     ]
    }
   ],
   "source": [
    "print model.predict_proba(1)\n",
    "print model.predict_proba(2)\n",
    "print model.predict_proba(3)"
   ]
  },
  {
   "cell_type": "markdown",
   "metadata": {
    "slideshow": {
     "slide_type": "fragment"
    }
   },
   "source": [
    "The **first column** indicates the predicted probability of **class 0**.\n",
    "\n",
    "The **second column** indicates the predicted probability of **class 1**."
   ]
  },
  {
   "cell_type": "markdown",
   "metadata": {
    "slideshow": {
     "slide_type": "slide"
    }
   },
   "source": [
    "## Probability and Odds\n",
    "\n",
    "$probability =  \\frac{\\text{one outcome}}{\\text{all outcomes}}$\n",
    "\n",
    "$odds =  \\frac{\\text{one outcome}}{\\text{all other outcomes}}$\n",
    "\n",
    "$odds =  \\frac{probability}{1 - probability}$\n",
    "\n",
    "$probability =  \\frac{odds}{1 + odds}$"
   ]
  },
  {
   "cell_type": "markdown",
   "metadata": {
    "slideshow": {
     "slide_type": "notes"
    }
   },
   "source": [
    "Examples:\n",
    "\n",
    "    Dice roll of 1: probability = 1/6, odds = 1/5\n",
    "    Even dice roll: probability = 3/6, odds = 3/3 = 1\n",
    "    Dice roll less than 5: probability = 4/6, odds = 4/2 = 2\n"
   ]
  },
  {
   "cell_type": "markdown",
   "metadata": {
    "slideshow": {
     "slide_type": "slide"
    }
   },
   "source": [
    "## Logistic Regression is what exactly?"
   ]
  },
  {
   "cell_type": "markdown",
   "metadata": {
    "slideshow": {
     "slide_type": "fragment"
    }
   },
   "source": [
    "**Linear regression**: continuous response is modeled as a linear combination of the features:\n",
    "$$y=β_0+β_1x$$\n",
    "\n",
    "**Logistic regression**: log-odds of a categorical response being \"true\" (1) is modeled as a linear combination of the features:\n",
    "$$\\log(\\frac{p}{1−p})=β_0+β_1x$$\n",
    "\n",
    "This is called the **logit function**.\n",
    "\n",
    "The equation can be rearranged into the **logistic function**:\n",
    "$$probability=\\frac{e^{β_0+β_1x}}{1+e^{β_0+β_1x}}$$"
   ]
  },
  {
   "cell_type": "markdown",
   "metadata": {
    "slideshow": {
     "slide_type": "slide"
    }
   },
   "source": [
    "### Logistic or Sigmoid function\n",
    "\n",
    "<img style=\"float: center;\" src=\"img/Logistic-curve.svg.png\">\n",
    "\n",
    "The logistic function has some nice properties:\n",
    "\n",
    "* Output is bounded by 0 and 1\n"
   ]
  },
  {
   "cell_type": "markdown",
   "metadata": {
    "slideshow": {
     "slide_type": "slide"
    }
   },
   "source": [
    "### Properties of Logistic Regression\n",
    "* Logistic regression outputs the probabilities of a specific class\n",
    "* These probabilities can be converted into class predictions\n",
    "* Decision threshold for the classes is usually 0.5, but it is up to you!"
   ]
  },
  {
   "cell_type": "markdown",
   "metadata": {
    "slideshow": {
     "slide_type": "slide"
    }
   },
   "source": [
    "### Interpreting Logistic Regression Coefficients\n",
    "<img style=\"float: center;\" src=\"img/predicted_probabilities.png\">"
   ]
  },
  {
   "cell_type": "markdown",
   "metadata": {
    "slideshow": {
     "slide_type": "fragment"
    }
   },
   "source": [
    "Compute predicted log-odds for al=2 using the equation:\n",
    "\n",
    "$\\log(odds)=β_0+β_1x$"
   ]
  },
  {
   "cell_type": "code",
   "execution_count": 53,
   "metadata": {
    "collapsed": false,
    "slideshow": {
     "slide_type": "fragment"
    }
   },
   "outputs": [
    {
     "data": {
      "text/plain": [
       "array([ 0.64722323])"
      ]
     },
     "execution_count": 53,
     "metadata": {},
     "output_type": "execute_result"
    }
   ],
   "source": [
    "logodds = model.intercept_ + model.coef_[0] * 2\n",
    "logodds"
   ]
  },
  {
   "cell_type": "markdown",
   "metadata": {
    "slideshow": {
     "slide_type": "slide"
    }
   },
   "source": [
    "Convert log-odds to odds"
   ]
  },
  {
   "cell_type": "code",
   "execution_count": 54,
   "metadata": {
    "collapsed": false,
    "slideshow": {
     "slide_type": "fragment"
    }
   },
   "outputs": [
    {
     "data": {
      "text/plain": [
       "array([ 1.91022919])"
      ]
     },
     "execution_count": 54,
     "metadata": {},
     "output_type": "execute_result"
    }
   ],
   "source": [
    "odds = np.exp(logodds)\n",
    "odds"
   ]
  },
  {
   "cell_type": "markdown",
   "metadata": {
    "slideshow": {
     "slide_type": "fragment"
    }
   },
   "source": [
    "Convert odds to probability"
   ]
  },
  {
   "cell_type": "code",
   "execution_count": 55,
   "metadata": {
    "collapsed": false,
    "slideshow": {
     "slide_type": "fragment"
    }
   },
   "outputs": [
    {
     "data": {
      "text/plain": [
       "array([ 0.65638445])"
      ]
     },
     "execution_count": 55,
     "metadata": {},
     "output_type": "execute_result"
    }
   ],
   "source": [
    "prob = odds / (1 + odds)\n",
    "prob"
   ]
  },
  {
   "cell_type": "markdown",
   "metadata": {
    "slideshow": {
     "slide_type": "fragment"
    }
   },
   "source": [
    "Check our work! Find the predicted probability for al=2 using scikit-learn's predict_proba method"
   ]
  },
  {
   "cell_type": "code",
   "execution_count": 57,
   "metadata": {
    "collapsed": false,
    "slideshow": {
     "slide_type": "fragment"
    }
   },
   "outputs": [
    {
     "data": {
      "text/plain": [
       "array([ 0.65638445])"
      ]
     },
     "execution_count": 57,
     "metadata": {},
     "output_type": "execute_result"
    }
   ],
   "source": [
    "model.predict_proba(2)[:, 1]"
   ]
  },
  {
   "cell_type": "code",
   "execution_count": 146,
   "metadata": {
    "collapsed": false,
    "slideshow": {
     "slide_type": "slide"
    }
   },
   "outputs": [
    {
     "data": {
      "text/plain": [
       "[('al', 4.1804038614510901)]"
      ]
     },
     "execution_count": 146,
     "metadata": {},
     "output_type": "execute_result"
    }
   ],
   "source": [
    "# examine the coefficient for al\n",
    "zip(feature_cols, model.coef_[0])"
   ]
  },
  {
   "cell_type": "markdown",
   "metadata": {
    "slideshow": {
     "slide_type": "fragment"
    }
   },
   "source": [
    "Interpretation: A 1 unit increase in 'al' is associated with a 4.18 unit increase in the log-odds of 'household'.\n"
   ]
  },
  {
   "cell_type": "markdown",
   "metadata": {
    "slideshow": {
     "slide_type": "slide"
    }
   },
   "source": [
    "# Final Exercise\n",
    "* Use sepal length as a feature to classify a flower as either species setosa (0) or versicolor (1)\n",
    "* Calculate the predicted probability for sepal length = 5.5\n",
    "* Check your work using scikit-learn"
   ]
  },
  {
   "cell_type": "code",
   "execution_count": 128,
   "metadata": {
    "collapsed": false,
    "slideshow": {
     "slide_type": "fragment"
    }
   },
   "outputs": [
    {
     "name": "stdout",
     "output_type": "stream",
     "text": [
      "['sepal length (cm)', 'sepal width (cm)', 'petal length (cm)', 'petal width (cm)']\n"
     ]
    }
   ],
   "source": [
    "from sklearn.datasets import load_iris\n",
    "iris = load_iris()\n",
    "list(iris.target_names)  # ['setosa', 'versicolor', 'virginica']\n",
    "print list(iris.feature_names)\n",
    "\n",
    "df = pd.DataFrame(iris.data, columns=list(iris.feature_names))\n",
    "df['species'] = iris.target\n",
    "df.sort_values(by='sepal length (cm)', inplace=True)\n",
    "\n",
    "df = df[df.species < 2]  # Only want 2 class problem\n",
    "\n",
    "x = df[['sepal length (cm)']].values  # only take the first feature\n",
    "y = df.species.values"
   ]
  },
  {
   "cell_type": "code",
   "execution_count": 129,
   "metadata": {
    "collapsed": false,
    "slideshow": {
     "slide_type": "slide"
    }
   },
   "outputs": [
    {
     "data": {
      "image/png": "[encoded data removed]",
      "text/plain": [
       "<matplotlib.figure.Figure at 0x7f99e963e650>"
      ]
     },
     "metadata": {},
     "output_type": "display_data"
    }
   ],
   "source": [
    "from sklearn.linear_model import LogisticRegression\n",
    "\n",
    "model = LogisticRegression(C=1e9)\n",
    "\n",
    "model.fit(x, y)\n",
    "species_predict = model.predict(x)\n",
    "\n",
    "species_probability = model.predict_proba(x)[:, 1]\n",
    "\n",
    "plt.scatter(x[:, 0], y)  # just plot the first feature\n",
    "plt.plot(x[:, 0], species_probability, color='red')\n",
    "plt.xlabel('sepal length (cm)')\n",
    "plt.ylabel('species');"
   ]
  },
  {
   "cell_type": "markdown",
   "metadata": {
    "slideshow": {
     "slide_type": "slide"
    }
   },
   "source": [
    "Compute predicted log-odds for septal length = 5.5 using the equation: $\\log(odds)=β_0+β_1x$"
   ]
  },
  {
   "cell_type": "code",
   "execution_count": 131,
   "metadata": {
    "collapsed": false,
    "slideshow": {
     "slide_type": "fragment"
    }
   },
   "outputs": [
    {
     "data": {
      "text/plain": [
       "array([ 0.44038197])"
      ]
     },
     "execution_count": 131,
     "metadata": {},
     "output_type": "execute_result"
    }
   ],
   "source": [
    "logodds = model.intercept_ + model.coef_[0] * 5.5\n",
    "logodds"
   ]
  },
  {
   "cell_type": "code",
   "execution_count": 132,
   "metadata": {
    "collapsed": false,
    "slideshow": {
     "slide_type": "fragment"
    }
   },
   "outputs": [
    {
     "data": {
      "text/plain": [
       "array([ 1.55330043])"
      ]
     },
     "execution_count": 132,
     "metadata": {},
     "output_type": "execute_result"
    }
   ],
   "source": [
    "odds = np.exp(logodds)\n",
    "odds"
   ]
  },
  {
   "cell_type": "code",
   "execution_count": 133,
   "metadata": {
    "collapsed": false,
    "slideshow": {
     "slide_type": "fragment"
    }
   },
   "outputs": [
    {
     "data": {
      "text/plain": [
       "array([ 0.60835004])"
      ]
     },
     "execution_count": 133,
     "metadata": {},
     "output_type": "execute_result"
    }
   ],
   "source": [
    "prob = odds / (1 + odds)\n",
    "prob"
   ]
  },
  {
   "cell_type": "code",
   "execution_count": 136,
   "metadata": {
    "collapsed": false,
    "slideshow": {
     "slide_type": "fragment"
    }
   },
   "outputs": [
    {
     "data": {
      "text/plain": [
       "array([ 0.60835004])"
      ]
     },
     "execution_count": 136,
     "metadata": {},
     "output_type": "execute_result"
    }
   ],
   "source": [
    "model.predict_proba(5.5)[:, 1]"
   ]
  },
  {
   "cell_type": "markdown",
   "metadata": {
    "slideshow": {
     "slide_type": "slide"
    }
   },
   "source": [
    "#### Resources Used\n",
    "* Machine Learning - Professor Andrew Ng Stanford University offered a free, online machine learning class in Fall 2011, taught by Prof. Andrew Ng. http://ml-class.org\n",
    "* Data School: http://www.dataschool.io/guide-to-logistic-regression/\n",
    "* http://scikit-learn.org/stable/"
   ]
  },
  {
   "cell_type": "code",
   "execution_count": null,
   "metadata": {
    "collapsed": true
   },
   "outputs": [],
   "source": []
  }
 ],
 "metadata": {
  "celltoolbar": "Slideshow",
  "kernelspec": {
   "display_name": "Python 2",
   "language": "python",
   "name": "python2"
  },
  "language_info": {
   "codemirror_mode": {
    "name": "ipython",
    "version": 2
   },
   "file_extension": ".py",
   "mimetype": "text/x-python",
   "name": "python",
   "nbconvert_exporter": "python",
   "pygments_lexer": "ipython2",
   "version": "2.7.11+"
  }
 },
 "nbformat": 4,
 "nbformat_minor": 1
}
