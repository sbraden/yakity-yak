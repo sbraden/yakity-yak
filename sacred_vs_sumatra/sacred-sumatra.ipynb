{
 "cells": [
  {
   "cell_type": "markdown",
   "metadata": {
    "slideshow": {
     "slide_type": "slide"
    }
   },
   "source": [
    "# I Know What You Did Last Summer\n",
    "## Experiment Tracking Tools for Data Science\n",
    "\n",
    "> Sarah Braden\n",
    "\n",
    "> Phoenix Data Science Meetup\n",
    "\n",
    "> 13 September 2016\n"
   ]
  },
  {
   "cell_type": "markdown",
   "metadata": {
    "slideshow": {
     "slide_type": "notes"
    }
   },
   "source": [
    "Possible Questions for the crowd:\n",
    "    1. How do data scientists here keep track of their experiments?\n",
    "    2. Has anyone ever had to go back to a project, but you forgot which model worked the best and had to rerun models to find a solution?\n",
    "    3. Has anyone ever worked on something late at night, and gotten a great result, but then forgot the exact configuration in the morning?"
   ]
  },
  {
   "cell_type": "markdown",
   "metadata": {
    "slideshow": {
     "slide_type": "fragment"
    }
   },
   "source": [
    "<img style=\"float: center;\" src=\"img/got_great_result.jpg\">"
   ]
  },
  {
   "cell_type": "markdown",
   "metadata": {
    "slideshow": {
     "slide_type": "fragment"
    }
   },
   "source": [
    "<img style=\"float: center;\" src=\"img/record_all_the_experiments.jpg\">"
   ]
  },
  {
   "cell_type": "markdown",
   "metadata": {
    "slideshow": {
     "slide_type": "slide"
    }
   },
   "source": [
    "### What\n",
    "\n",
    "* Two Python libraries: Sacred and Sumatra\n",
    "* Why to use an experiment management system\n",
    "* How to get started\n",
    "* Discussion of differences\n",
    "* This talk is available on github (insert link)\n"
   ]
  },
  {
   "cell_type": "markdown",
   "metadata": {
    "slideshow": {
     "slide_type": "slide"
    }
   },
   "source": [
    "### Why\n",
    "\n",
    "* Reproducibility of experiments is critical to all science, including data science.\n",
    "* Reduce errors in recording inputs, parameters, and outcomes.\n",
    "* Automating experiment management makes it easier: Work smarter, not harder\n",
    "* “I really need an experiment manager, but I want to roll my own experiment management system. It needs to be specific for my needs.” Why reinvent the wheel?"
   ]
  },
  {
   "cell_type": "markdown",
   "metadata": {
    "slideshow": {
     "slide_type": "slide"
    }
   },
   "source": [
    "### What should an experiment manager be?\n",
    "\n",
    "What are the needs of a data scientist?\n",
    "\n",
    "\"Sacred is a tool to help you configure, organize, log and reproduce experiments. It is designed to do all the tedious overhead work that you need to do around your actual experiment in order to:\n",
    "\n",
    "    keep track of all the parameters of your experiment\n",
    "    easily run your experiment for different settings\n",
    "    save configurations for individual runs in a database\n",
    "    reproduce your results\""
   ]
  },
  {
   "cell_type": "markdown",
   "metadata": {
    "slideshow": {
     "slide_type": "slide"
    }
   },
   "source": [
    "# Sumatra"
   ]
  },
  {
   "cell_type": "markdown",
   "metadata": {
    "slideshow": {
     "slide_type": "subslide"
    }
   },
   "source": [
    "# Sumatra\n",
    "\n",
    "* Documentation: \n",
    "    * https://pythonhosted.org/Sumatra/\n",
    "    * https://pypi.python.org/pypi/Sumatra\n",
    "* Github: https://github.com/open-research/sumatra\n",
    "* Licence: 2-clause BSD\n",
    "* Started in 2009\n",
    "* supports Python versions 2.6, 2.7, 3.4 or 3.5. "
   ]
  },
  {
   "cell_type": "markdown",
   "metadata": {
    "slideshow": {
     "slide_type": "subslide"
    }
   },
   "source": [
    "# Sumatra Features\n",
    "* a command line tool\n",
    "* a web interface\n",
    "* creates directories and files in the repository\n",
    "* Automatically creates a directory called “Data” when a project is initialized (you can customize the filename though).\n",
    "* Sumatra requires that you keep your own code in a version control system (currently Subversion, Mercurial, Git and Bazaar are supported).\n",
    "* by default Sumatra will refuse to run until you have committed your changes.\n",
    "* Uses SQLite db by default, option to use PostgreSQL\n",
    "* Targeted audience: Academics"
   ]
  },
  {
   "cell_type": "markdown",
   "metadata": {
    "slideshow": {
     "slide_type": "subslide"
    }
   },
   "source": [
    "# How to install Sumatra\n",
    "\n",
    "The web interface requires Django (>= 1.6) and the django-tagging package (Installed automatically if you pip install Sumatra).\n",
    "\n",
    "Install directly from the Python Package Index: (Which version is this? 0.7.4)\n",
    "    \n",
    "    pip install gitpython\n",
    "    pip install sumatra\n",
    "\n",
    "If you have downloaded the source package, Sumatra-0.7.0.tar.gz:\n",
    "\n",
    "    tar xzf Sumatra-0.7.0.tar.gz\n",
    "    cd Sumatra-0.7.0\n",
    "    python setup.py install\n",
    "\n"
   ]
  },
  {
   "cell_type": "markdown",
   "metadata": {
    "slideshow": {
     "slide_type": "subslide"
    }
   },
   "source": [
    "# Getting started"
   ]
  },
  {
   "cell_type": "markdown",
   "metadata": {
    "slideshow": {
     "slide_type": "slide"
    }
   },
   "source": [
    "# Sacred"
   ]
  },
  {
   "cell_type": "markdown",
   "metadata": {
    "slideshow": {
     "slide_type": "subslide"
    }
   },
   "source": [
    "# Sacred\n",
    "<img style=\"float: center;\" src=\"img/Monty_Python_Series.png\">\n",
    "\n",
    "> Every experiment is sacred\n",
    "\n",
    "> Every experiment is great\n",
    "\n",
    "> If an experiment is wasted\n",
    "\n",
    "> God gets quite irate"
   ]
  },
  {
   "cell_type": "markdown",
   "metadata": {
    "slideshow": {
     "slide_type": "subslide"
    }
   },
   "source": [
    "# Sacred\n",
    "\n",
    "* Documentation: https://pypi.python.org/pypi/sacred\n",
    "* Github: https://github.com/IDSIA/sacred\n",
    "* License: MIT\n",
    "* Started in 2014"
   ]
  },
  {
   "cell_type": "markdown",
   "metadata": {
    "slideshow": {
     "slide_type": "subslide"
    }
   },
   "source": [
    "# Sacred Features\n",
    "* Like Sumatra, Sacred has a Command-line interface you can use to change parameters and run different variants.\n",
    "* Uses MongoDB\n",
    "* Unlike Sumatra, it does not have an option to make you to commit your work before running\n",
    "* Sacred has better test coverage at this time. Is this still true?\n",
    "* Automatic seeding helps controlling the randomness in your experiments, such that the results remain reproducible.\n",
    "* Does Sacred have a cool web interface like Sumatra?\n",
    "No not yet: there is a proto-project: https://github.com/Qwlouse/prophet\n",
    "One guy just uses jupyter notebooks to connect to MongoDB and look at the results. Not a bad option.\n"
   ]
  },
  {
   "cell_type": "markdown",
   "metadata": {
    "slideshow": {
     "slide_type": "subslide"
    }
   },
   "source": [
    "# How to Install Sacred\n",
    "\n",
    "Install it from the Python Package Index (version 0.6.10):\n",
    "\n",
    "    pip install sacred\n",
    "\n",
    "Install manually:\n",
    "\n",
    "    git clone https://github.com/IDSIA/sacred.git\n",
    "    cd sacred\n",
    "    python setup.py install\n",
    "\n",
    "Recommended:\n",
    "\n",
    "    pip install numpy pymongo pandas"
   ]
  },
  {
   "cell_type": "markdown",
   "metadata": {
    "slideshow": {
     "slide_type": "subslide"
    }
   },
   "source": [
    "# Getting Started"
   ]
  },
  {
   "cell_type": "code",
   "execution_count": 8,
   "metadata": {
    "collapsed": false,
    "slideshow": {
     "slide_type": "-"
    }
   },
   "outputs": [
    {
     "ename": "ImportError",
     "evalue": "No module named sacred",
     "output_type": "error",
     "traceback": [
      "\u001b[0;31m---------------------------------------------------------------------------\u001b[0m",
      "\u001b[0;31mImportError\u001b[0m                               Traceback (most recent call last)",
      "\u001b[0;32m<ipython-input-8-2f432919543f>\u001b[0m in \u001b[0;36m<module>\u001b[0;34m()\u001b[0m\n\u001b[0;32m----> 1\u001b[0;31m \u001b[0;32mfrom\u001b[0m \u001b[0msacred\u001b[0m \u001b[0;32mimport\u001b[0m \u001b[0mExperiment\u001b[0m\u001b[0;34m\u001b[0m\u001b[0m\n\u001b[0m\u001b[1;32m      2\u001b[0m \u001b[0;34m\u001b[0m\u001b[0m\n\u001b[1;32m      3\u001b[0m \u001b[0mex\u001b[0m \u001b[0;34m=\u001b[0m \u001b[0mExperiment\u001b[0m\u001b[0;34m(\u001b[0m\u001b[0;34m'hello_config'\u001b[0m\u001b[0;34m)\u001b[0m\u001b[0;34m\u001b[0m\u001b[0m\n\u001b[1;32m      4\u001b[0m \u001b[0;34m\u001b[0m\u001b[0m\n\u001b[1;32m      5\u001b[0m \u001b[0;34m@\u001b[0m\u001b[0mex\u001b[0m\u001b[0;34m.\u001b[0m\u001b[0mconfig\u001b[0m\u001b[0;34m\u001b[0m\u001b[0m\n",
      "\u001b[0;31mImportError\u001b[0m: No module named sacred"
     ]
    }
   ],
   "source": [
    "from sacred import Experiment  # central class of the Sacred framework\n",
    "\n",
    "ex = Experiment('hello_config')\n",
    "\n",
    "@ex.config\n",
    "def my_config():\n",
    "    recipient = \"world\"\n",
    "    message = \"Hello %s!\" % recipient\n",
    "\n",
    "@ex.automain\n",
    "def my_main(message):\n",
    "    print(message)"
   ]
  },
  {
   "cell_type": "markdown",
   "metadata": {
    "slideshow": {
     "slide_type": "notes"
    }
   },
   "source": [
    "Sacred will run the my_config function and put all variables from its local scope into the configuration of our experiment."
   ]
  },
  {
   "cell_type": "code",
   "execution_count": null,
   "metadata": {
    "collapsed": true
   },
   "outputs": [],
   "source": [
    "Show output here"
   ]
  },
  {
   "cell_type": "code",
   "execution_count": null,
   "metadata": {
    "collapsed": true
   },
   "outputs": [],
   "source": [
    "# Run Object"
   ]
  },
  {
   "cell_type": "markdown",
   "metadata": {
    "slideshow": {
     "slide_type": "subslide"
    }
   },
   "source": [
    "# Observers\n",
    "\n",
    "Experiments in Sacred collect lots of information about their runs:\n",
    "\n",
    "* time it was started and time it stopped\n",
    "* the used configuration\n",
    "* the result or any errors that occurred\n",
    "* basic information about the machine it runs on\n",
    "* packages the experiment depends on and their versions\n",
    "* all imported local source-files\n",
    "* files opened with `ex.open_resource`\n",
    "* files added with `ex.add_artifact`\n",
    "* custom info"
   ]
  },
  {
   "cell_type": "markdown",
   "metadata": {
    "slideshow": {
     "slide_type": "subslide"
    }
   },
   "source": [
    "# Observers\n",
    "\n",
    "To access this information you can use the observer interface. First you need to add an observer like this:"
   ]
  },
  {
   "cell_type": "code",
   "execution_count": null,
   "metadata": {
    "collapsed": true,
    "slideshow": {
     "slide_type": "-"
    }
   },
   "outputs": [],
   "source": [
    "from sacred.observers import MongoObserver\n",
    "\n",
    "ex.observers.append(MongoObserver.create())"
   ]
  },
  {
   "cell_type": "markdown",
   "metadata": {},
   "source": [
    "\n",
    "# Capturing stdout / stderr\n",
    "\n",
    "By default sacred captures everything that is written to sys.stdout and sys.stderr and transmits that information to the observers. Sometimes this is unwanted, for example when the output contains lots of live-updated progressbars and such. To prevent the captured out from recording each and every update that is written to the console one can add a captured out filter to the experiment like this:\n",
    "\n",
    "    from sacred.utils import apply_backspaces_and_linefeeds\n",
    "\n",
    "    ex.captured_out_filter = apply_backspaces_and_linefeeds\n",
    "\n",
    "Here apply_backspaces_and_linefeeds is a simple function that interprets all backspace and linefeed characters like in a terminal and returns the modified text. Any function that takes a string as input and outputs a (modified) string can be used as a captured_out_filter. For a simple example see examples/captured_out_filter.py.\n"
   ]
  },
  {
   "cell_type": "code",
   "execution_count": null,
   "metadata": {
    "collapsed": true
   },
   "outputs": [],
   "source": [
    "# Capture Function Decorator"
   ]
  },
  {
   "cell_type": "markdown",
   "metadata": {
    "slideshow": {
     "slide_type": "fragment"
    }
   },
   "source": [
    "# Caveats\n",
    "\n",
    "By default, Sacred experiments will fail if run in an interactive environment like a REPL or a Jupyter Notebook.\n",
    "\n",
    "Only variables that are JSON serializable (i.e. a numbers, strings, lists, tuples, dictionaries) become part of the configuration. Other variables are ignored.\n",
    "\n",
    "For running from the command line to work the automain function needs to be at the end of the file. Otherwise everything below it is not defined yet when the experiment is run."
   ]
  },
  {
   "cell_type": "markdown",
   "metadata": {},
   "source": [
    "Under the hood a Run object is created every time you run an Experiment (this is also the object that ex.run() returns). It holds some information about that run (e.g. final configuration and later the result) and is responsible for emitting all the events for the Observing an Experiment."
   ]
  },
  {
   "cell_type": "markdown",
   "metadata": {
    "slideshow": {
     "slide_type": "subslide"
    }
   },
   "source": [
    "# Looking at the data\n",
    "Let's use a combination of jupter notebook, pymongo, and pandas!"
   ]
  },
  {
   "cell_type": "code",
   "execution_count": null,
   "metadata": {
    "collapsed": true,
    "slideshow": {
     "slide_type": "subslide"
    }
   },
   "outputs": [],
   "source": [
    "import pymongo\n",
    "import pandas as pd"
   ]
  },
  {
   "cell_type": "code",
   "execution_count": null,
   "metadata": {
    "collapsed": true,
    "slideshow": {
     "slide_type": "subslide"
    }
   },
   "outputs": [],
   "source": [
    "connection = pymongo.MongoClient('127.0.0.1', 27017)\n",
    "connection.database_names()"
   ]
  },
  {
   "cell_type": "code",
   "execution_count": null,
   "metadata": {
    "collapsed": true,
    "slideshow": {
     "slide_type": "subslide"
    }
   },
   "outputs": [],
   "source": [
    "sb = connection['sacred']\n",
    "db.collection_names()"
   ]
  },
  {
   "cell_type": "code",
   "execution_count": null,
   "metadata": {
    "collapsed": true,
    "slideshow": {
     "slide_type": "subslide"
    }
   },
   "outputs": [],
   "source": [
    "collection = db.runs\n",
    "cursor = db.default.runs.find()\n",
    "# Expand the cursor and construct the DataFrame\n",
    "df = pd.DataFrame(list(cursor))"
   ]
  },
  {
   "cell_type": "code",
   "execution_count": null,
   "metadata": {
    "collapsed": true,
    "slideshow": {
     "slide_type": "subslide"
    }
   },
   "outputs": [],
   "source": [
    "df.sort_values('heartbeat')"
   ]
  },
  {
   "cell_type": "markdown",
   "metadata": {
    "slideshow": {
     "slide_type": "subslide"
    }
   },
   "source": [
    "Do I want to talk about this?\n",
    "Standard Output and Progress Bars\n",
    "Writing a Custom Observer... "
   ]
  },
  {
   "cell_type": "markdown",
   "metadata": {
    "slideshow": {
     "slide_type": "slide"
    }
   },
   "source": [
    "## Which manager did I chose in the end?\n",
    "\n",
    "After testing out both libraries I chose Sacred over Sumatra.\n",
    "\n",
    "I found that Sacred was easier to start using out of the box. "
   ]
  },
  {
   "cell_type": "markdown",
   "metadata": {
    "slideshow": {
     "slide_type": "slide"
    }
   },
   "source": [
    "# Pros and Cons"
   ]
  },
  {
   "cell_type": "code",
   "execution_count": null,
   "metadata": {
    "collapsed": true
   },
   "outputs": [],
   "source": [
    "### Junk slide\n",
    "\n",
    "Data science experiments and machine learning models often have a non trivial number of variables. \n",
    "Tracking variables with a pen and paper notebook, or even a spreadsheet invites human error. \n",
    "Why not automate the experiment tracking process? \n",
    "Two Python libraries, Sumatra and Sacred, provide easy to use automated experiment tracking frameworks. \n",
    "This talk will discuss the differences between the libraries, how to get started using both, \n",
    "and how to customize the experiment trackers.  \n",
    "\n",
    "I'm working on a talk about the importance of Data Science experiment reproducibility through the use of automated experiment trackers. \n",
    "I've researched two open source experiment tracking libraries in Python. In the talk I compare the two libraries Sacred and Sumatra. \n",
    "The need for automated experiment tracking came from my own need for better record keeping. "
   ]
  },
  {
   "cell_type": "markdown",
   "metadata": {
    "slideshow": {
     "slide_type": "slide"
    }
   },
   "source": [
    "### Final Slide\n",
    "\n",
    "* help develop these open source projects\n",
    "* Questions? Twitter: @ifmoonwascookie\n",
    "\n",
    "### Further Reading\n",
    "Davison A.P. (2012) Automated capture of experiment context for easier reproducibility in computational research. Computing in Science and Engineering 14: 48-56."
   ]
  },
  {
   "cell_type": "code",
   "execution_count": null,
   "metadata": {
    "collapsed": true,
    "slideshow": {
     "slide_type": "slide"
    }
   },
   "outputs": [],
   "source": [
    "I made this presentation using RISE:\n",
    "\n",
    "https://github.com/damianavila/RISE"
   ]
  }
 ],
 "metadata": {
  "celltoolbar": "Slideshow",
  "kernelspec": {
   "display_name": "Python 2",
   "language": "python",
   "name": "python2"
  },
  "language_info": {
   "codemirror_mode": {
    "name": "ipython",
    "version": 2
   },
   "file_extension": ".py",
   "mimetype": "text/x-python",
   "name": "python",
   "nbconvert_exporter": "python",
   "pygments_lexer": "ipython2",
   "version": "2.7.11+"
  }
 },
 "nbformat": 4,
 "nbformat_minor": 0
}
