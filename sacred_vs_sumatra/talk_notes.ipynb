{
 "cells": [
  {
   "cell_type": "code",
   "execution_count": null,
   "metadata": {
    "collapsed": true
   },
   "outputs": [],
   "source": [
    "Possible Questions for the crowd:\n",
    "1. Who here uses a Experiment Tracker already? Which ones?\n",
    "2. How do data scientists here keep track of their experiments?\n",
    "    1. pen and paper\n",
    "    2. spreadsheet solution\n",
    "    3. an automated experiment tracker\n",
    "3. Has anyone ever had to go back to a project, but you forgot which model worked the best and had to rerun models to find a solution?\n",
    "4. Has anyone ever worked on something late at night, and gotten a great result, but then forgot the exact configuration in the morning?"
   ]
  },
  {
   "cell_type": "code",
   "execution_count": null,
   "metadata": {
    "collapsed": true
   },
   "outputs": [],
   "source": [
    "Sacred will run the my_config function and put all variables from its local scope into the configuration of our experiment."
   ]
  },
  {
   "cell_type": "code",
   "execution_count": null,
   "metadata": {
    "collapsed": true
   },
   "outputs": [],
   "source": [
    "# Run Object\n",
    "Under the hood a Run object is created every time you run an Experiment (this is also the object that ex.run() returns). It holds some information about that run (e.g. final configuration and later the result) and is responsible for emitting all the events for the Observing an Experiment.\n",
    "\n",
    "To store information in the info dict it can be accessed via ex.info, but only while the experiment is running. \n",
    "Another way is to access it directly through the run with _run.info. \n",
    "This can be done conveniently using the special _run parameter in any captured function, which gives you access to the current Run object."
   ]
  }
 ],
 "metadata": {
  "kernelspec": {
   "display_name": "Python 2",
   "language": "python",
   "name": "python2"
  },
  "language_info": {
   "codemirror_mode": {
    "name": "ipython",
    "version": 2
   },
   "file_extension": ".py",
   "mimetype": "text/x-python",
   "name": "python",
   "nbconvert_exporter": "python",
   "pygments_lexer": "ipython2",
   "version": "2.7.12"
  }
 },
 "nbformat": 4,
 "nbformat_minor": 1
}
